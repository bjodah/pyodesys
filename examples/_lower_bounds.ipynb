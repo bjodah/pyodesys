{
 "cells": [
  {
   "cell_type": "code",
   "execution_count": null,
   "metadata": {},
   "outputs": [],
   "source": [
    "import numpy as np\n",
    "import sympy as sp\n",
    "import matplotlib.pyplot as plt\n",
    "from pyodesys.tests._robertson import get_ode_exprs\n",
    "from pyodesys.symbolic import SymbolicSys, ScaledSys, PartiallySolvedSystem\n",
    "sp.init_printing()\n",
    "%matplotlib inline"
   ]
  },
  {
   "cell_type": "code",
   "execution_count": null,
   "metadata": {},
   "outputs": [],
   "source": [
    "linf, linj = get_ode_exprs()\n",
    "logf, logj = get_ode_exprs(True, True)\n",
    "\n",
    "linsys = ScaledSys.from_callback(linf, 3, 3, dep_scaling=1e8, linear_invariants=[[1, 1, 1]], names='ABC')"
   ]
  },
  {
   "cell_type": "code",
   "execution_count": null,
   "metadata": {},
   "outputs": [],
   "source": [
    "psysA = PartiallySolvedSystem.from_linear_invariants(linsys, preferred=[0], description='A ')\n",
    "psysC = PartiallySolvedSystem.from_linear_invariants(linsys, preferred=[2], description='C ')\n",
    "psysA.exprs, psysC.exprs"
   ]
  },
  {
   "cell_type": "code",
   "execution_count": null,
   "metadata": {},
   "outputs": [],
   "source": [
    "tend, iv, pars = 1e18, [1, 0, 0], [0.04, 1e4, 3e7]\n",
    "integrate_kw = dict(integrator='cvode', record_rhs_xvals=True, record_jac_xvals=True, nsteps=3000,\n",
    "                    atol=1e-8, rtol=1e-8, return_on_error=True)\n",
    "\n",
    "def plot_res(res, ax):\n",
    "    res.plot(xscale='log', yscale='log', ax=ax, title_info=2)  # , info_vlines_kw=True)\n",
    "    ax.set_xlim([1e-12, tend])\n",
    "    ax.set_ylim([1e-30, 1e9])\n",
    "    ax.legend(loc='best')\n",
    "\n",
    "def integrate_and_plot_systems(systems):\n",
    "    results = []\n",
    "    fig, axes = plt.subplots(1, 3, figsize=(16, 4))\n",
    "    for odesys, ax in zip(systems, axes):\n",
    "        results.append(odesys.integrate(tend, iv, pars, **integrate_kw))\n",
    "        plot_res(results[-1], ax)\n",
    "    return results\n",
    "\n",
    "odes = [linsys, psysA, psysC]"
   ]
  },
  {
   "cell_type": "code",
   "execution_count": null,
   "metadata": {},
   "outputs": [],
   "source": [
    "results = integrate_and_plot_systems(odes)"
   ]
  },
  {
   "cell_type": "code",
   "execution_count": null,
   "metadata": {},
   "outputs": [],
   "source": [
    "_ = integrate_and_plot_systems([SymbolicSys.from_other(odesys, lower_bounds=[0]*odesys.ny) for odesys in odes])"
   ]
  },
  {
   "cell_type": "code",
   "execution_count": null,
   "metadata": {},
   "outputs": [],
   "source": []
  }
 ],
 "metadata": {
  "kernelspec": {
   "display_name": "Python 3",
   "language": "python",
   "name": "python3"
  },
  "language_info": {
   "codemirror_mode": {
    "name": "ipython",
    "version": 3
   },
   "file_extension": ".py",
   "mimetype": "text/x-python",
   "name": "python",
   "nbconvert_exporter": "python",
   "pygments_lexer": "ipython3",
   "version": "3.5.2"
  }
 },
 "nbformat": 4,
 "nbformat_minor": 1
}
