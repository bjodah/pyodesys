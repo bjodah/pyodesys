{
 "cells": [
  {
   "cell_type": "markdown",
   "id": "57f784db",
   "metadata": {},
   "source": [
    "## Analytic solution\n",
    "Consider this system of chemical reactions:\n",
    "\n",
    "<pre>\n",
    "2 A -&gt; B; r1=a*f(t)*A*A\n",
    "2 B -&gt; C; r2=b*f(t)*B*B\n",
    "\n",
    "f(t) = 1/(k + t)\n",
    "0 &lt;= t\n",
    "</pre>\n",
    "\n",
    "the system of ODEs is then defined as:\n",
    "$$\n",
    "\\frac{\\rm{d}A}{\\rm{d}t} = -2 a f(t) A^2 \\\\\n",
    "\\frac{\\rm{d}B}{\\rm{d}t} = -2 b f(t) B^2 + a f(t) A^2 \\\\\n",
    "\\frac{\\rm{d}C}{\\rm{d}t} = +b f(t) B^2\n",
    "$$"
   ]
  },
  {
   "cell_type": "code",
   "execution_count": null,
   "id": "84232383",
   "metadata": {},
   "outputs": [],
   "source": [
    "from sympy import symbols, Function, Tuple, Eq, dsolve, cse"
   ]
  },
  {
   "cell_type": "code",
   "execution_count": null,
   "id": "699f042d",
   "metadata": {},
   "outputs": [],
   "source": [
    "t, a, b, A0, B0, C0, k = symbols('t a b A0 B0 C0 k', real=True, nonnegative=True)\n",
    "funcs_anon = f, A, B, C = symbols('f A B C', cls=Function, nonnegative=True)\n",
    "funcs_t = ft, At, Bt, Ct = [_(t) for _ in funcs_anon]\n",
    "funcs_dt = dAdt, dBdt, dCdt = [_.diff(t) for _ in funcs_t[1:]]\n",
    "e_ft = 1/(k+t)\n",
    "r1 = a*e_ft*At**2\n",
    "r2 = b*e_ft*Bt**2\n",
    "rhss = e_dAdt, e_dBdt, e_dCdt = -2*r1, -2*r2 + r1, r2\n",
    "odes3 = Tuple(*[Eq(_1, _2) for _1, _2 in zip(funcs_dt, rhss)])\n",
    "odes3"
   ]
  },
  {
   "cell_type": "code",
   "execution_count": null,
   "id": "4d4618a7",
   "metadata": {},
   "outputs": [],
   "source": [
    "sA = dsolve(odes3[0], func=At, ics={A(0): A0})\n",
    "assert sA.subs(t, 0).rhs.expand() - A0 == 0\n",
    "assert sA.rhs.diff(t) - odes3[0].rhs.subs({At: sA.rhs}) == 0\n",
    "sA"
   ]
  },
  {
   "cell_type": "code",
   "execution_count": null,
   "id": "7e4f8556",
   "metadata": {},
   "outputs": [],
   "source": [
    "sA.subs(t, 0).expand()"
   ]
  },
  {
   "cell_type": "code",
   "execution_count": null,
   "id": "e178347c",
   "metadata": {},
   "outputs": [],
   "source": [
    "odes2 = odes3[1:].subs({sA.lhs: sA.rhs})\n",
    "odes2"
   ]
  },
  {
   "cell_type": "code",
   "execution_count": null,
   "id": "c405d444",
   "metadata": {},
   "outputs": [],
   "source": [
    "from sympy import sqrt, S, log"
   ]
  },
  {
   "cell_type": "code",
   "execution_count": null,
   "id": "d98b1e2f",
   "metadata": {},
   "outputs": [],
   "source": [
    "# we prescribe the analytic solution directly:\n",
    "c1 = symbols('c1')\n",
    "_1a = 1/(sqrt(2)*(k+t))\n",
    "_1b = sqrt(a)*A0*sqrt(b)*c1\n",
    "_1c = -(sqrt(2*a/b)+sqrt(2*(a-2*b)/b))\n",
    "_1d = (-2*a*A0*log(k+t)+2*a*A0*log(k)+1)\n",
    "_1e = -(sqrt(b)*(-sqrt(2*a/b)-sqrt(2*(a-2*b)/b)))/(2*sqrt(2)*sqrt(a))-1\n",
    "_1 = _1a*_1b*_1c*_1d**_1e\n",
    "_2 = A0/(k+t)*(sqrt(a*(a-2*b)) - a)\n",
    "_3a = (-2*a*A0*log(k+t)+2*a*A0*log(k)+1)**(-(sqrt(b)*(-sqrt(2*a/b)-sqrt(2*(a-2*b)/b)))/sqrt(8*a))\n",
    "_3b1 = -2*a*A0*log(k+t)+2*a*A0*log(k)+1\n",
    "_3b2 = S(1)/2 - sqrt(a-2*b)/2/sqrt(a)\n",
    "_3b = _3b1**_3b2\n",
    "_3 = 2*b*(c1*(_3a + _3b))\n",
    "_sB = ((k+t)*(_1+_2))/_3\n",
    "_sB"
   ]
  },
  {
   "cell_type": "code",
   "execution_count": null,
   "id": "6255ddd7",
   "metadata": {},
   "outputs": [],
   "source": [
    "_sB.subs(t,0).expand().factor().simplify()"
   ]
  },
  {
   "cell_type": "markdown",
   "id": "ef75848a",
   "metadata": {},
   "source": [
    "There's probably a typo in the analytic solution... not worth the time to investigate now."
   ]
  },
  {
   "cell_type": "code",
   "execution_count": null,
   "id": "0f686b95",
   "metadata": {},
   "outputs": [],
   "source": []
  }
 ],
 "metadata": {
  "kernelspec": {
   "display_name": "Python 3 (ipykernel)",
   "language": "python",
   "name": "python3"
  },
  "language_info": {
   "codemirror_mode": {
    "name": "ipython",
    "version": 3
   },
   "file_extension": ".py",
   "mimetype": "text/x-python",
   "name": "python",
   "nbconvert_exporter": "python",
   "pygments_lexer": "ipython3",
   "version": "3.8.10"
  }
 },
 "nbformat": 4,
 "nbformat_minor": 5
}
