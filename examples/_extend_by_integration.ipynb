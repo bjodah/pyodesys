{
 "cells": [
  {
   "cell_type": "code",
   "execution_count": null,
   "metadata": {},
   "outputs": [],
   "source": [
    "import numpy as np\n",
    "import sympy as sp\n",
    "import matplotlib.pyplot as plt\n",
    "from pyodesys.tests._robertson import get_ode_exprs\n",
    "from pyodesys.symbolic import ScaledSys, PartiallySolvedSystem\n",
    "sp.init_printing()\n",
    "%matplotlib inline"
   ]
  },
  {
   "cell_type": "code",
   "execution_count": null,
   "metadata": {},
   "outputs": [],
   "source": [
    "linf, linj = get_ode_exprs()\n",
    "logf, logj = get_ode_exprs(True, True)\n",
    "\n",
    "linsys = ScaledSys.from_callback(linf, 3, 3, dep_scaling=1e8, linear_invariants=[[1, 1, 1]], names='ABC')"
   ]
  },
  {
   "cell_type": "code",
   "execution_count": null,
   "metadata": {},
   "outputs": [],
   "source": [
    "psysA = PartiallySolvedSystem.from_linear_invariants(linsys, preferred=[0], description='A ')\n",
    "psysC = PartiallySolvedSystem.from_linear_invariants(linsys, preferred=[2], description='C ')\n",
    "psysA.exprs, psysC.exprs"
   ]
  },
  {
   "cell_type": "code",
   "execution_count": null,
   "metadata": {},
   "outputs": [],
   "source": [
    "tend, iv, pars = 1e18, [1, 0, 0], [0.04, 1e4, 3e7]\n",
    "integrate_kw = dict(integrator='cvode', record_rhs_xvals=True, record_jac_xvals=True, nsteps=3000,\n",
    "                    atol=1e-8, rtol=1e-8, return_on_error=True)\n",
    "\n",
    "results = []\n",
    "fig, axes = plt.subplots(1, 3, figsize=(16, 4))\n",
    "def plot_res(res, ax):\n",
    "    res.plot(xscale='log', yscale='log', ax=ax)  #, info_vlines_kw=True)\n",
    "    ax.set_title((res.odesys.description or '') + \n",
    "                 ('%d steps, ' % res.info['n_steps']) +\n",
    "                 ('success' if res.info['success'] else 'failed'))\n",
    "    ax.set_xlim([1e-12, tend])\n",
    "    ax.set_ylim([1e-30, 1e9])\n",
    "    ax.legend(loc='best')\n",
    "\n",
    "for odesys, ax in zip([linsys, psysA, psysC], axes):\n",
    "    results.append(odesys.integrate(tend, iv, pars, **integrate_kw))\n",
    "    plot_res(results[-1], ax)"
   ]
  },
  {
   "cell_type": "code",
   "execution_count": null,
   "metadata": {},
   "outputs": [],
   "source": [
    "linsys.autonomous_exprs, psysA.autonomous_exprs, psysC.autonomous_exprs"
   ]
  },
  {
   "cell_type": "code",
   "execution_count": null,
   "metadata": {},
   "outputs": [],
   "source": [
    "linsys.autonomous_interface, psysA.autonomous_interface, psysC.autonomous_interface"
   ]
  },
  {
   "cell_type": "code",
   "execution_count": null,
   "metadata": {},
   "outputs": [],
   "source": [
    "psysAr = PartiallySolvedSystem.from_linear_invariants(linsys, preferred=[0], roots=[1000*linsys.dep[0] - linsys.dep[2]])\n",
    "psysAr.autonomous_exprs, psysAr.autonomous_interface"
   ]
  },
  {
   "cell_type": "code",
   "execution_count": null,
   "metadata": {},
   "outputs": [],
   "source": [
    "resAroot = psysAr.integrate(tend, iv, pars, return_on_root=True, **integrate_kw)\n",
    "resAswitch = resAroot.copy()\n",
    "resAswitch.extend_by_integration(tend, odesys=psysC, **integrate_kw)\n",
    "fig, axes = plt.subplots(1, 2, figsize=(16, 4))\n",
    "axes[1].axvline(resAswitch.xout[resAswitch.info['root_indices'][0]], ls='--', alpha=.5)\n",
    "for res, ax in zip([resAroot, resAswitch], axes):\n",
    "    plot_res(res, ax)"
   ]
  }
 ],
 "metadata": {
  "kernelspec": {
   "display_name": "Python 3",
   "language": "python",
   "name": "python3"
  },
  "language_info": {
   "codemirror_mode": {
    "name": "ipython",
    "version": 3
   },
   "file_extension": ".py",
   "mimetype": "text/x-python",
   "name": "python",
   "nbconvert_exporter": "python",
   "pygments_lexer": "ipython3",
   "version": "3.5.2"
  }
 },
 "nbformat": 4,
 "nbformat_minor": 1
}
