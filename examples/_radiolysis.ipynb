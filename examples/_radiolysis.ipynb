{
 "cells": [
  {
   "cell_type": "code",
   "execution_count": null,
   "metadata": {
    "deletable": true,
    "editable": true
   },
   "outputs": [],
   "source": [
    "from collections import defaultdict\n",
    "import numpy as np\n",
    "import matplotlib.pyplot as plt\n",
    "from pyodesys.symbolic import symmetricsys, get_logexp\n",
    "from pyodesys.native import native_sys\n",
    "from _chem_kinet import from_b64_gz_pkl, radiolysis1\n",
    "%matplotlib inline"
   ]
  },
  {
   "cell_type": "code",
   "execution_count": null,
   "metadata": {
    "deletable": true,
    "editable": true
   },
   "outputs": [],
   "source": [
    "linsys, (params,) = from_b64_gz_pkl(radiolysis1, steady_state_root=True)"
   ]
  },
  {
   "cell_type": "code",
   "execution_count": null,
   "metadata": {
    "deletable": true,
    "editable": true
   },
   "outputs": [],
   "source": [
    "def integrate_and_plot(odesys, tend=1e6, H2O2=(0, 1e-4, 1e-3), **kwargs):\n",
    "    res = odesys.integrate(tend, defaultdict(\n",
    "            float, {'H2O': 55.4e3, 'H+': 1e-4, 'OH-': 1e-4, 'O2': 1e-6, 'H2O2': H2O2}\n",
    "        ), params, integrator='cvode', **kwargs)\n",
    "    fig, axes = plt.subplots(3, len(res), figsize=(16, 15))\n",
    "    axes = np.reshape(axes, (3, len(res)))\n",
    "    plot_kw = dict(legend=dict(loc='center left', prop={'size': 8}), xscale='log')\n",
    "    for r, axcol in zip(res, axes.T):\n",
    "        r.plot(ax=axcol[0], yscale='log', title_info=2, **plot_kw)\n",
    "        r.plot(ax=axcol[1], deriv=True, yscale='symlog;linthreshy=1e-9', **plot_kw)\n",
    "        r.plot_invariant_violations(ax=axcol[2], **plot_kw)\n",
    "        for ax in axcol:\n",
    "            ax.set_xlim([1e-13, 1e-3])\n",
    "            ax.set_xlim([1e-6, tend])"
   ]
  },
  {
   "cell_type": "code",
   "execution_count": null,
   "metadata": {
    "deletable": true,
    "editable": true
   },
   "outputs": [],
   "source": [
    "integrate_and_plot(linsys, nsteps=5000, atol=1e-13, rtol=1e-13)"
   ]
  },
  {
   "cell_type": "code",
   "execution_count": null,
   "metadata": {
    "deletable": true,
    "editable": true
   },
   "outputs": [],
   "source": [
    "integrate_and_plot(linsys, return_on_root=True, nsteps=5000, atol=1e-13, rtol=1e-13)"
   ]
  },
  {
   "cell_type": "code",
   "execution_count": null,
   "metadata": {
    "deletable": true,
    "editable": true
   },
   "outputs": [],
   "source": [
    "native = native_sys['cvode'].from_other(linsys)\n",
    "print(next(filter(lambda s: s.endswith('.cpp'), native._native._written_files)))"
   ]
  },
  {
   "cell_type": "code",
   "execution_count": null,
   "metadata": {
    "deletable": true,
    "editable": true
   },
   "outputs": [],
   "source": [
    "integrate_and_plot(native, nsteps=5000, atol=1e-13, rtol=1e-13, return_on_root=True)"
   ]
  },
  {
   "cell_type": "code",
   "execution_count": null,
   "metadata": {
    "deletable": true,
    "editable": true
   },
   "outputs": [],
   "source": [
    "integrate_and_plot(native, nsteps=1024000, atol=1e-11, rtol=1e-11, tend=1e10, H2O2=(0,))"
   ]
  },
  {
   "cell_type": "code",
   "execution_count": null,
   "metadata": {
    "deletable": true,
    "editable": true
   },
   "outputs": [],
   "source": [
    "try:\n",
    "    integrate_and_plot(native, nsteps=1024000, atol=1e-11, rtol=1e-11, tend=1e10, H2O2=(0,),\n",
    "                       max_invariant_violation=2e-8, autorestart=1)\n",
    "except Exception as e:\n",
    "    print(\"Raises:\\n%s\" % str(e))\n",
    "else:\n",
    "    print(\"No exception\")"
   ]
  },
  {
   "cell_type": "code",
   "execution_count": null,
   "metadata": {
    "deletable": true,
    "editable": true
   },
   "outputs": [],
   "source": [
    "try:\n",
    "    integrate_and_plot(native, nsteps=1024000, atol=1e-11, rtol=1e-11, tend=1e10, H2O2=(0,),\n",
    "                       max_invariant_violation=-5e-9, autorestart=0)\n",
    "except Exception as e:\n",
    "    print(\"Raises:\\n%s\" % str(e))\n",
    "else:\n",
    "    print(\"No exception\")"
   ]
  },
  {
   "cell_type": "code",
   "execution_count": null,
   "metadata": {
    "deletable": true,
    "editable": true
   },
   "outputs": [],
   "source": [
    "# would neeed to tile in pre_process:\n",
    "#LogLogSys = symmetricsys(get_logexp(1, 1e-24), get_logexp(1, 1e-12))\n",
    "#tsys = LogLogSys.from_other(linsys)\n",
    "#integrate_and_plot(tsys)"
   ]
  },
  {
   "cell_type": "code",
   "execution_count": null,
   "metadata": {
    "deletable": true,
    "editable": true
   },
   "outputs": [],
   "source": []
  }
 ],
 "metadata": {
  "kernelspec": {
   "display_name": "Python 3",
   "language": "python",
   "name": "python3"
  },
  "language_info": {
   "codemirror_mode": {
    "name": "ipython",
    "version": 3
   },
   "file_extension": ".py",
   "mimetype": "text/x-python",
   "name": "python",
   "nbconvert_exporter": "python",
   "pygments_lexer": "ipython3",
   "version": "3.5.2"
  }
 },
 "nbformat": 4,
 "nbformat_minor": 1
}
