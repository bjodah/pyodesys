{
 "cells": [
  {
   "cell_type": "code",
   "execution_count": null,
   "id": "0e2171ed",
   "metadata": {},
   "outputs": [],
   "source": [
    "import numpy as np\n",
    "import matplotlib.pyplot as plt\n",
    "from pyodesys.symbolic import SymbolicSys\n",
    "%matplotlib inline"
   ]
  },
  {
   "cell_type": "code",
   "execution_count": null,
   "id": "d0ab26a9",
   "metadata": {},
   "outputs": [],
   "source": [
    "sys1 = SymbolicSys.from_callback(lambda t, y, p: [-y[0]/t], 1)\n",
    "sys1.exprs"
   ]
  },
  {
   "cell_type": "code",
   "execution_count": null,
   "id": "bd0b5fe4",
   "metadata": {},
   "outputs": [],
   "source": [
    "def vary(sys, kws, *, t_end=1e20):\n",
    "    res = [sys.integrate((1, t_end), [1.0], atol=1e-50, nsteps=64000#, record_order=True\n",
    "                         , **kw) for kw in kws]\n",
    "    return res"
   ]
  },
  {
   "cell_type": "code",
   "execution_count": null,
   "id": "4796d001",
   "metadata": {},
   "outputs": [],
   "source": [
    "kws = [\n",
    "    dict(integrator='cvode', method='adams', rtol=1e-10),\n",
    "    dict(integrator='cvode', method='bdf', rtol=1e-10, first_step=1e-10),\n",
    "    dict(integrator='gsl', method='msbdf', rtol=1e-10),\n",
    "    dict(integrator='gsl', method='bsimp', rtol=1e-10),\n",
    "    dict(integrator='odeint', method='bs', rtol=1e-10)\n",
    "]\n",
    "\n",
    "res1 = vary(sys1, kws)"
   ]
  },
  {
   "cell_type": "code",
   "execution_count": null,
   "id": "d1323811",
   "metadata": {},
   "outputs": [],
   "source": [
    "def plot_variation(res, kws, *, start_idx=0, fig_kw=None, plot_order=False):\n",
    "    if fig_kw is None:\n",
    "        fig_kw = dict(figsize=(16,6), dpi=150, sharey=True)\n",
    "        \n",
    "    if plot_order:\n",
    "        from mpl_toolkits.axes_grid1 import host_subplot\n",
    "        import mpl_toolkits.axisartist as aa\n",
    "        \n",
    "        fig = plt.figure(**fig_kw)\n",
    "        axes = [host_subplot(1, len(res), i+1, figure=fig, axes_class=aa.Axes) for i in range(len(res))]\n",
    "    else:\n",
    "        fig, axes = plt.subplots(1, len(res), **fig_kw)\n",
    "        \n",
    "    for ax, r, kw in zip(axes, res, kws):\n",
    "        #r.plot(ax=ax)\n",
    "        rx = 1/r.xout\n",
    "        relerr = np.abs(r.yout.squeeze() - rx)/rx\n",
    "        ax.plot(r.xout[start_idx:], np.log10(relerr[start_idx:])\n",
    "                , label=f\"{kw['integrator']}, {kw['method']}\"\n",
    "                , linewidth=0.5#, marker='x'\n",
    "               )\n",
    "        ax.set_xscale('log')\n",
    "        ax.set_yscale('linear')\n",
    "        ax.set_ylabel('log10 |relative error|')\n",
    "\n",
    "        random_walk = np.sqrt(1.0+np.array(range(r.xout.size)))  # non-systematic errors (no bias)\n",
    "        #ax.plot(r.xout, random_walk*kw['rtol'], label='prognosis')\n",
    "\n",
    "        ax.legend()\n",
    "        ax.set_ylim([-16, -2])\n",
    "\n",
    "        ax2 = ax.twinx()\n",
    "        ax2.plot(r.xout[:-1], np.diff(r.xout), color='k', linewidth=0.5\n",
    "                 #, ls='None', marker='.', markersize=0.5, alpha=0.3\n",
    "                )\n",
    "        ax2.set_yscale('log')\n",
    "        ax2.set_ylim([1e-12, r.xout[-1]])\n",
    "        ax2.set_ylabel('step size')\n",
    "\n",
    "        if plot_order:\n",
    "            ax3 = ax.twinx()        \n",
    "            ax3.axis[\"right\"] = ax3.new_fixed_axis(loc=\"right\", offset=(60, 0))\n",
    "            p3, = ax3.plot(r.xout, r.info['orders'], linewidth=0.5, color='tab:orange')\n",
    "            ax3.axis[\"right\"].label.set_color(p3.get_color())\n",
    "\n",
    "            ax2.axis[\"right\"].toggle(all=True)\n",
    "            ax3.axis[\"right\"].toggle(all=True)\n",
    "            \n",
    "        ax.set_title(f\"{r.info['n_steps']=}\\n{r.info['time_cpu']=:.3f} s\\n \")\n",
    "\n",
    "    fig.tight_layout(pad=1.08, rect=(-.05, -.05, 1.05, 1.05))"
   ]
  },
  {
   "cell_type": "code",
   "execution_count": null,
   "id": "33d96a20",
   "metadata": {
    "scrolled": false
   },
   "outputs": [],
   "source": [
    "plot_variation(res1, kws)"
   ]
  },
  {
   "cell_type": "code",
   "execution_count": null,
   "id": "5c876e70",
   "metadata": {},
   "outputs": [],
   "source": [
    "sys2 = sys1.as_autonomous()\n",
    "sys2.exprs"
   ]
  },
  {
   "cell_type": "code",
   "execution_count": null,
   "id": "3e6a2083",
   "metadata": {},
   "outputs": [],
   "source": [
    "plot_variation(vary(sys2, kws), kws)"
   ]
  },
  {
   "cell_type": "code",
   "execution_count": null,
   "id": "9dc8c5b1",
   "metadata": {},
   "outputs": [],
   "source": []
  }
 ],
 "metadata": {
  "kernelspec": {
   "display_name": "Python 3 (ipykernel)",
   "language": "python",
   "name": "python3"
  },
  "language_info": {
   "codemirror_mode": {
    "name": "ipython",
    "version": 3
   },
   "file_extension": ".py",
   "mimetype": "text/x-python",
   "name": "python",
   "nbconvert_exporter": "python",
   "pygments_lexer": "ipython3",
   "version": "3.10.4"
  }
 },
 "nbformat": 4,
 "nbformat_minor": 5
}
