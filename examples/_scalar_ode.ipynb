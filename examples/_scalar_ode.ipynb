{
 "cells": [
  {
   "cell_type": "code",
   "execution_count": null,
   "id": "0e2171ed",
   "metadata": {},
   "outputs": [],
   "source": [
    "import numpy as np\n",
    "import matplotlib.pyplot as plt\n",
    "from pyodesys.symbolic import SymbolicSys\n",
    "%matplotlib inline"
   ]
  },
  {
   "cell_type": "code",
   "execution_count": null,
   "id": "d0ab26a9",
   "metadata": {},
   "outputs": [],
   "source": [
    "sys1 = SymbolicSys.from_callback(lambda t, y, p: [-y[0]/t], 1)\n",
    "sys1.exprs"
   ]
  },
  {
   "cell_type": "code",
   "execution_count": null,
   "id": "bd0b5fe4",
   "metadata": {},
   "outputs": [],
   "source": [
    "def vary(sys, kws):\n",
    "    res = [sys.integrate((1, 1e20), [1.0], atol=1e-50, nsteps=64000, **kw) for kw in kws]\n",
    "    return res"
   ]
  },
  {
   "cell_type": "code",
   "execution_count": null,
   "id": "4796d001",
   "metadata": {},
   "outputs": [],
   "source": [
    "kws = [\n",
    "    dict(integrator='cvode', method='bdf', rtol=1e-6),\n",
    "    dict(integrator='cvode', method='adams', rtol=1e-10),\n",
    "    dict(integrator='gsl', method='bsimp', rtol=1e-10),\n",
    "    dict(integrator='gsl', method='msbdf', rtol=1e-10)\n",
    "]\n",
    "\n",
    "res1 = vary(sys1, kws)"
   ]
  },
  {
   "cell_type": "code",
   "execution_count": null,
   "id": "d1323811",
   "metadata": {},
   "outputs": [],
   "source": [
    "def plot_variation(res, kws):\n",
    "    fig, axes = plt.subplots(1, len(res), figsize=(16,6), dpi=150)\n",
    "    for ax, r, kw in zip(axes, res, kws):\n",
    "        #r.plot(ax=ax)\n",
    "        rx = 1/r.xout\n",
    "        ax.plot(r.xout, np.abs(r.yout.squeeze() - rx)/rx, label='observed')\n",
    "        ax.set_xscale('log')\n",
    "        ax.set_yscale('linear')\n",
    "        ax.set_ylabel('|relative error|')\n",
    "\n",
    "        random_walk = np.sqrt(1.0+np.array(range(r.xout.size)))  # non-systematic errors (no bias)\n",
    "        #ax.plot(r.xout, random_walk*kw['rtol'], label='prognosis')\n",
    "\n",
    "        ax.legend()\n",
    "\n",
    "        ax2 = ax.twinx()\n",
    "        ax2.plot(r.xout[:-1], np.diff(r.xout), color='k', linewidth=0.5\n",
    "                 #, ls='None', marker='.', markersize=0.5, alpha=0.3\n",
    "                )\n",
    "        ax2.set_yscale('log')\n",
    "        ax2.set_ylim([1e-12, 1e20])\n",
    "        ax2.set_ylabel('step size')\n",
    "\n",
    "        ax.set_title(f\"{kw['integrator']}\\n{kw['method']}\\n{r.info['n_steps']=}\\n{r.info['time_cpu']=}\\n \")\n",
    "\n",
    "    fig.tight_layout()"
   ]
  },
  {
   "cell_type": "code",
   "execution_count": null,
   "id": "33d96a20",
   "metadata": {},
   "outputs": [],
   "source": [
    "plot_variation(res1, kws)"
   ]
  },
  {
   "cell_type": "code",
   "execution_count": null,
   "id": "5c876e70",
   "metadata": {},
   "outputs": [],
   "source": [
    "sys2 = sys1.as_autonomous()\n",
    "sys2.exprs"
   ]
  },
  {
   "cell_type": "code",
   "execution_count": null,
   "id": "3e6a2083",
   "metadata": {},
   "outputs": [],
   "source": [
    "plot_variation(vary(sys2, kws), kws)"
   ]
  },
  {
   "cell_type": "code",
   "execution_count": null,
   "id": "65b2d5cd",
   "metadata": {},
   "outputs": [],
   "source": []
  },
  {
   "cell_type": "code",
   "execution_count": null,
   "id": "cd167f60",
   "metadata": {},
   "outputs": [],
   "source": []
  }
 ],
 "metadata": {
  "kernelspec": {
   "display_name": "Python 3 (ipykernel)",
   "language": "python",
   "name": "python3"
  },
  "language_info": {
   "codemirror_mode": {
    "name": "ipython",
    "version": 3
   },
   "file_extension": ".py",
   "mimetype": "text/x-python",
   "name": "python",
   "nbconvert_exporter": "python",
   "pygments_lexer": "ipython3",
   "version": "3.8.10"
  }
 },
 "nbformat": 4,
 "nbformat_minor": 5
}
