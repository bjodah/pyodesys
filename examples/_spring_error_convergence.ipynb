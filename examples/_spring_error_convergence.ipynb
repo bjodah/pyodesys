{
 "cells": [
  {
   "cell_type": "code",
   "execution_count": null,
   "metadata": {},
   "outputs": [],
   "source": [
    "\n",
    "\n",
    "\n",
    "import numpy as np\n",
    "import matplotlib.pyplot as plt\n",
    "from pyodesys.symbolic import SymbolicSys\n",
    "%matplotlib inline"
   ]
  },
  {
   "cell_type": "code",
   "execution_count": null,
   "metadata": {},
   "outputs": [],
   "source": [
    "def dydt(t, y, params, backend):\n",
    "    return [y[1], -y[0]*params[0]]  # y'' = -k y => y = C1 + sin(k**0.5 * x + C2)"
   ]
  },
  {
   "cell_type": "code",
   "execution_count": null,
   "metadata": {},
   "outputs": [],
   "source": [
    "A0, spring_const = 3, 5"
   ]
  },
  {
   "cell_type": "code",
   "execution_count": null,
   "metadata": {},
   "outputs": [],
   "source": [
    "analytic_xmin = spring_const**-.5 * np.pi\n",
    "def analytic(x):\n",
    "    return np.array([+A0*np.cos(spring_const**.5*x),\n",
    "                     -A0*np.sin(spring_const**.5*x)*spring_const**.5]).T"
   ]
  },
  {
   "cell_type": "code",
   "execution_count": null,
   "metadata": {},
   "outputs": [],
   "source": [
    "integrate_kw = dict(integrator='cvode', method='adams', nsteps=2000)"
   ]
  },
  {
   "cell_type": "code",
   "execution_count": null,
   "metadata": {},
   "outputs": [],
   "source": [
    "odesys = SymbolicSys.from_callback(dydt, 2, 1)\n",
    "args = 17, [A0, 0], [spring_const]\n",
    "res = odesys.integrate(*args, **integrate_kw)\n",
    "res.plot()\n",
    "print({k: v for k, v in res.info.items() if not k.startswith('internal_')})"
   ]
  },
  {
   "cell_type": "code",
   "execution_count": null,
   "metadata": {},
   "outputs": [],
   "source": [
    "%load_ext autoreload\n",
    "%autoreload 2"
   ]
  },
  {
   "cell_type": "code",
   "execution_count": null,
   "metadata": {},
   "outputs": [],
   "source": [
    "from pyodesys.convergence import integrate_tolerance_series, fit_factory"
   ]
  },
  {
   "cell_type": "code",
   "execution_count": null,
   "metadata": {},
   "outputs": [],
   "source": [
    "def plot_tolerance_series(tols, relative=False, **kwargs):\n",
    "    result0, results, extra = integrate_tolerance_series(odesys, tols, None, *args, **integrate_kw, **kwargs)\n",
    "    fig, axes = plt.subplots(2, 2, sharex=True, figsize=(14, 4), gridspec_kw=dict(hspace=0))\n",
    "    ytru = analytic(result0.xout)\n",
    "    errtru = np.abs(result0.yout - ytru)\n",
    "    errest = extra['errest']\n",
    "    if relative:\n",
    "        errtru /= ytru\n",
    "        errest /= result0.yout\n",
    "    result0.plot(yerr=errest, ax=axes[0, 0])\n",
    "    result0.plot(y=ytru, ax=axes[1, 0])\n",
    "    result0.plot(y=errest, ax=axes[0, 1])\n",
    "    result0.plot(y=errtru, ax=axes[1, 1])\n",
    "    for ax in axes[:, 1]:\n",
    "        ally = np.concatenate((errtru, extra['errest'])).flat\n",
    "        if relative:\n",
    "            ymax = np.max(np.sort(ally)[:-(1 + len(ally)//100)])\n",
    "        else:\n",
    "            ymax = np.max(ally)\n",
    "        ax.set_ylim([0, 1.1*ymax])"
   ]
  },
  {
   "cell_type": "code",
   "execution_count": null,
   "metadata": {},
   "outputs": [],
   "source": [
    "plot_tolerance_series(np.logspace(-6, -4, 7))"
   ]
  },
  {
   "cell_type": "code",
   "execution_count": null,
   "metadata": {},
   "outputs": [],
   "source": [
    "plot_tolerance_series(np.logspace(-6, -4, 27))"
   ]
  },
  {
   "cell_type": "code",
   "execution_count": null,
   "metadata": {},
   "outputs": [],
   "source": [
    "plot_tolerance_series(np.logspace(-10, -7, 50))"
   ]
  },
  {
   "cell_type": "code",
   "execution_count": null,
   "metadata": {},
   "outputs": [],
   "source": [
    "plot_tolerance_series(np.logspace(-10, -8, 6))"
   ]
  },
  {
   "cell_type": "code",
   "execution_count": null,
   "metadata": {},
   "outputs": [],
   "source": [
    "plot_tolerance_series(np.logspace(-10, -8, 12))"
   ]
  },
  {
   "cell_type": "code",
   "execution_count": null,
   "metadata": {},
   "outputs": [],
   "source": [
    "plot_tolerance_series(np.logspace(-10, -8, 24))"
   ]
  },
  {
   "cell_type": "code",
   "execution_count": null,
   "metadata": {},
   "outputs": [],
   "source": [
    "plot_tolerance_series(np.logspace(-10, -8, 6), fit=fit_factory())"
   ]
  },
  {
   "cell_type": "code",
   "execution_count": null,
   "metadata": {},
   "outputs": [],
   "source": [
    "plot_tolerance_series(np.logspace(-10, -8, 10), relative=True)"
   ]
  },
  {
   "cell_type": "code",
   "execution_count": null,
   "metadata": {},
   "outputs": [],
   "source": [
    "from pyodesys.plotting import plot_result"
   ]
  },
  {
   "cell_type": "code",
   "execution_count": null,
   "metadata": {},
   "outputs": [],
   "source": [
    "plot_tolerance_series(np.logspace(-2.5, -1.5, 12), fit=fit_factory(3))"
   ]
  },
  {
   "cell_type": "code",
   "execution_count": null,
   "metadata": {},
   "outputs": [],
   "source": []
  }
 ],
 "metadata": {
  "kernelspec": {
   "display_name": "Python 3",
   "language": "python",
   "name": "python3"
  },
  "language_info": {
   "codemirror_mode": {
    "name": "ipython",
    "version": 3
   },
   "file_extension": ".py",
   "mimetype": "text/x-python",
   "name": "python",
   "nbconvert_exporter": "python",
   "pygments_lexer": "ipython3",
   "version": "3.5.2"
  }
 },
 "nbformat": 4,
 "nbformat_minor": 1
}
