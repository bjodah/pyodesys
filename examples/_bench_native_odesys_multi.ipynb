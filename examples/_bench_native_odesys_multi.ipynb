{
 "cells": [
  {
   "cell_type": "code",
   "execution_count": null,
   "metadata": {},
   "outputs": [],
   "source": [
    "import os\n",
    "import numpy as np\n",
    "from pyodesys.symbolic import SymbolicSys, ScaledSys\n",
    "from pyodesys.native import native_sys\n",
    "from pyodesys.tests._robertson import get_ode_exprs\n",
    "print({k: os.environ.get(k, None) for k in 'OMP_NUM_THREADS ANYODE_NUM_THREADS'.split()})"
   ]
  },
  {
   "cell_type": "code",
   "execution_count": null,
   "metadata": {},
   "outputs": [],
   "source": [
    "logc, logt, reduced, powsimp = False, False, False, False"
   ]
  },
  {
   "cell_type": "code",
   "execution_count": null,
   "metadata": {},
   "outputs": [],
   "source": [
    "odesys = SymbolicSys.from_callback(\n",
    "    get_ode_exprs(logc, logt, reduced)[0],\n",
    "    2 if reduced else 3, 6 if reduced else 3, names='ABC')"
   ]
  },
  {
   "cell_type": "code",
   "execution_count": null,
   "metadata": {},
   "outputs": [],
   "source": [
    "native = native_sys['cvode'].from_other(odesys)"
   ]
  },
  {
   "cell_type": "code",
   "execution_count": null,
   "metadata": {},
   "outputs": [],
   "source": [
    "N = 500\n",
    "tout = np.array([[0, 1e11]]*N)\n",
    "y0 = np.array([[1,0,0]]*N)\n",
    "params = [0.04, 1e4, 3e7]"
   ]
  },
  {
   "cell_type": "code",
   "execution_count": null,
   "metadata": {},
   "outputs": [],
   "source": [
    "results = native.integrate(tout, y0, params, nsteps=5000)\n",
    "assert len(results) == N\n",
    "import time\n",
    "t0 = time.time()\n",
    "results = native.integrate(tout, y0, params, nsteps=5000)\n",
    "print(time.time() - t0)"
   ]
  },
  {
   "cell_type": "code",
   "execution_count": null,
   "metadata": {},
   "outputs": [],
   "source": [
    "dep_scaling, indep_scaling = 1e6, 42\n",
    "scaledsys = ScaledSys.from_other(odesys, dep_scaling=dep_scaling, indep_scaling=indep_scaling, exprs_process_cb=(\n",
    "    lambda exprs: [sp.powsimp(expr.expand(), force=True) for expr in exprs]) if powsimp else None)\n",
    "scalednative = native_sys['cvode'].from_other(scaledsys)"
   ]
  },
  {
   "cell_type": "code",
   "execution_count": null,
   "metadata": {},
   "outputs": [],
   "source": [
    "results = scalednative.integrate(tout, y0, params, nsteps=5000)\n",
    "assert len(results) == N\n",
    "import time\n",
    "t0 = time.time()\n",
    "results = scalednative.integrate(tout, y0, params, nsteps=5000)\n",
    "print(time.time() - t0)"
   ]
  },
  {
   "cell_type": "code",
   "execution_count": null,
   "metadata": {},
   "outputs": [],
   "source": [
    "%prun native.integrate(tout, y0, params, nsteps=5000)"
   ]
  },
  {
   "cell_type": "code",
   "execution_count": null,
   "metadata": {},
   "outputs": [],
   "source": [
    "%prun native.integrate(tout, y0, params, nsteps=5000)"
   ]
  }
 ],
 "metadata": {
  "kernelspec": {
   "display_name": "Python 3",
   "language": "python",
   "name": "python3"
  },
  "language_info": {
   "codemirror_mode": {
    "name": "ipython",
    "version": 3
   },
   "file_extension": ".py",
   "mimetype": "text/x-python",
   "name": "python",
   "nbconvert_exporter": "python",
   "pygments_lexer": "ipython3",
   "version": "3.6.1"
  }
 },
 "nbformat": 4,
 "nbformat_minor": 2
}
