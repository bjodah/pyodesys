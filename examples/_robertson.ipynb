{
 "cells": [
  {
   "cell_type": "code",
   "execution_count": null,
   "metadata": {},
   "outputs": [],
   "source": [
    "import numpy as np\n",
    "import matplotlib.pyplot as plt\n",
    "from pycvodes import fpes\n",
    "from pyodesys.tests._robertson import run_integration\n",
    "from pyodesys.plotting import info_vlines\n",
    "from pyodesys.native import native_sys\n",
    "%matplotlib inline"
   ]
  },
  {
   "cell_type": "code",
   "execution_count": null,
   "metadata": {},
   "outputs": [],
   "source": [
    "def integrate_and_plot(ax, title=None, info_vlines_kw=None, **kwargs):\n",
    "    xout, yout, info, systems = run_integration(\n",
    "        integrator='cvode', record_rhs_xvals=True, record_jac_xvals=True,\n",
    "        record_order=True, record_fpe=True, **kwargs)\n",
    "    info_vlines(ax, xout, info, **(info_vlines_kw or {\n",
    "                'fpes': fpes, 'post_proc': (lambda x: np.exp(x)) if kwargs.get('logt', False) else None}))\n",
    "    for idx, name in enumerate('ABC'):\n",
    "        ax.plot(xout, yout[:, idx], label=name)\n",
    "    ax.set_title((title or '') + ('%d steps, %d rhs evals, %.4f s CPU t' % (info['n_steps'], info['nfev'], info['time_cpu'])) +\n",
    "                 ('' if info['success'] else ' - failed!'))\n",
    "    ax.set_xscale('log')\n",
    "    ax.set_yscale('log')\n",
    "    ax.set_ylim([1e-21, 1e14])\n",
    "    ax.set_xlim([1e-12, 1e19])\n",
    "    ax.legend()\n",
    "    return systems"
   ]
  },
  {
   "cell_type": "code",
   "execution_count": null,
   "metadata": {},
   "outputs": [],
   "source": [
    "kw = dict(nsteps=18000, atol={'A': 1e-8, 'B': 1e-10, 'C': 1e-4}, rtol=1e-6,\n",
    "          dep_scaling=1e4, zero_conc=1e-24, t0=1e-12, return_on_error=True)\n",
    "fig, axes = plt.subplots(1, 2, figsize=(16, 6))\n",
    "integrate_and_plot(axes[0], **kw)\n",
    "_ = integrate_and_plot(axes[1], first_step=1e-12, **kw)"
   ]
  },
  {
   "cell_type": "code",
   "execution_count": null,
   "metadata": {},
   "outputs": [],
   "source": [
    "_ = integrate_and_plot(plt.subplot(1, 1, 1), wrapping_class=native_sys['cvode'], **kw)"
   ]
  },
  {
   "cell_type": "code",
   "execution_count": null,
   "metadata": {},
   "outputs": [],
   "source": [
    "def integrate_and_plot_reduced(**kwargs):\n",
    "    kw2 = kw.copy()\n",
    "    kw2.update(kwargs)\n",
    "    kw2['wrapping_class'] = native_sys['cvode']\n",
    "    fig, axes = plt.subplots(2, 2, figsize=(16, 12))\n",
    "    systems = []\n",
    "    for i in range(4):\n",
    "        title = 'A B C'.split()\n",
    "        if i > 0:\n",
    "            title.pop(i - 1)\n",
    "        systems.append(integrate_and_plot(\n",
    "                axes.flat[i], reduced=i, title=''.join(title) + ', ', **kw2))\n",
    "    return systems"
   ]
  },
  {
   "cell_type": "code",
   "execution_count": null,
   "metadata": {},
   "outputs": [],
   "source": [
    "rlin = integrate_and_plot_reduced()"
   ]
  },
  {
   "cell_type": "code",
   "execution_count": null,
   "metadata": {},
   "outputs": [],
   "source": [
    "kw_log = dict(atol=1e-7, logc=True, logt=True, dep_scaling=1)\n",
    "rlog1 = integrate_and_plot_reduced(**kw_log)"
   ]
  },
  {
   "cell_type": "code",
   "execution_count": null,
   "metadata": {},
   "outputs": [],
   "source": [
    "rloglin = integrate_and_plot_reduced(atol=1e-7, logc=True, logt=False, dep_scaling=1)"
   ]
  },
  {
   "cell_type": "code",
   "execution_count": null,
   "metadata": {},
   "outputs": [],
   "source": [
    "rlinlog = integrate_and_plot_reduced(atol=1e-7, logc=False, logt=True, dep_scaling=1)"
   ]
  },
  {
   "cell_type": "code",
   "execution_count": null,
   "metadata": {},
   "outputs": [],
   "source": [
    "rlog2 = integrate_and_plot_reduced(powsimp=True, **kw_log)"
   ]
  },
  {
   "cell_type": "code",
   "execution_count": null,
   "metadata": {},
   "outputs": [],
   "source": [
    "import sympy as sp\n",
    "sp.init_printing()"
   ]
  },
  {
   "cell_type": "code",
   "execution_count": null,
   "metadata": {},
   "outputs": [],
   "source": [
    "rlog1[0][-1].exprs"
   ]
  },
  {
   "cell_type": "code",
   "execution_count": null,
   "metadata": {},
   "outputs": [],
   "source": [
    "rlog1[0][-1].get_jac()"
   ]
  },
  {
   "cell_type": "code",
   "execution_count": null,
   "metadata": {},
   "outputs": [],
   "source": [
    "rlog2[0][-1].exprs"
   ]
  },
  {
   "cell_type": "code",
   "execution_count": null,
   "metadata": {},
   "outputs": [],
   "source": [
    "rlog2[0][-1].get_jac()"
   ]
  },
  {
   "cell_type": "code",
   "execution_count": null,
   "metadata": {},
   "outputs": [],
   "source": [
    "rlog2[0][-1]._native._written_files"
   ]
  },
  {
   "cell_type": "code",
   "execution_count": null,
   "metadata": {},
   "outputs": [],
   "source": [
    "def rhs_code_in_odesys(odesys):\n",
    "    seen_rhs = False\n",
    "    for line in open(next(filter(lambda n: n.endswith('.cpp'), odesys._native._written_files))):\n",
    "        if not seen_rhs:\n",
    "            if 'rhs(' in line:\n",
    "                seen_rhs = True\n",
    "            else:\n",
    "                continue\n",
    "        if 'nfev++' in line:\n",
    "            yield '...'\n",
    "            break        \n",
    "        yield line    "
   ]
  },
  {
   "cell_type": "code",
   "execution_count": null,
   "metadata": {},
   "outputs": [],
   "source": [
    "print(''.join(rhs_code_in_odesys(rlog1[0][-1])))"
   ]
  },
  {
   "cell_type": "code",
   "execution_count": null,
   "metadata": {},
   "outputs": [],
   "source": [
    "print(''.join(rhs_code_in_odesys(rlog2[0][-1])))"
   ]
  },
  {
   "cell_type": "code",
   "execution_count": null,
   "metadata": {},
   "outputs": [],
   "source": []
  },
  {
   "cell_type": "code",
   "execution_count": null,
   "metadata": {},
   "outputs": [],
   "source": []
  },
  {
   "cell_type": "code",
   "execution_count": null,
   "metadata": {},
   "outputs": [],
   "source": []
  }
 ],
 "metadata": {
  "kernelspec": {
   "display_name": "Python 3",
   "language": "python",
   "name": "python3"
  },
  "language_info": {
   "codemirror_mode": {
    "name": "ipython",
    "version": 3
   },
   "file_extension": ".py",
   "mimetype": "text/x-python",
   "name": "python",
   "nbconvert_exporter": "python",
   "pygments_lexer": "ipython3",
   "version": "3.5.2"
  }
 },
 "nbformat": 4,
 "nbformat_minor": 1
}
