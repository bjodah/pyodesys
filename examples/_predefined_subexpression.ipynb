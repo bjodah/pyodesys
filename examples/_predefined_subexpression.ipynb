{
 "cells": [
  {
   "cell_type": "markdown",
   "id": "57f784db",
   "metadata": {},
   "source": [
    "## Analytic solution\n",
    "Consider this system of chemical reactions:\n",
    "\n",
    "<pre>\n",
    "A -&gt; B; k=a*f(t)\n",
    "B -&gt; C; k=b*f(t)\n",
    "\n",
    "f(t) = 1/(1s + t)\n",
    "0 &lt;= t\n",
    "</pre>\n",
    "\n",
    "the system of ODEs is then defined as:\n",
    "$$\n",
    "\\frac{\\rm{d}A}{\\rm{d}t} = -a f(t) A \\\\\n",
    "\\frac{\\rm{d}B}{\\rm{d}t} = -b f(t) B + a f(t) A \\\\\n",
    "\\frac{\\rm{d}C}{\\rm{d}t} = +b f(t) B\n",
    "$$"
   ]
  },
  {
   "cell_type": "code",
   "execution_count": null,
   "id": "84232383",
   "metadata": {},
   "outputs": [],
   "source": [
    "from sympy import symbols, Function, Tuple, Eq, dsolve, cse"
   ]
  },
  {
   "cell_type": "code",
   "execution_count": null,
   "id": "699f042d",
   "metadata": {},
   "outputs": [],
   "source": [
    "t, a, b, A0, B0, C0 = symbols('t a b A0 B0 C0', real=True, nonnegative=True)\n",
    "funcs_anon = f, A, B, C = symbols('f A B C', cls=Function, nonnegative=True)\n",
    "funcs_t = ft, At, Bt, Ct = [_(t) for _ in funcs_anon]\n",
    "funcs_dt = dAdt, dBdt, dCdt = [_.diff(t) for _ in funcs_t[1:]]\n",
    "e_ft = 1/(1+t)\n",
    "r1 = a*e_ft*At\n",
    "r2 = b*e_ft*Bt\n",
    "rhss = e_dAdt, e_dBdt, e_dCdt = -r1, -r2 + r1, r2\n",
    "odes3 = Tuple(*[Eq(_1, _2) for _1, _2 in zip(funcs_dt, rhss)])\n",
    "odes3"
   ]
  },
  {
   "cell_type": "code",
   "execution_count": null,
   "id": "4d4618a7",
   "metadata": {},
   "outputs": [],
   "source": [
    "sA = dsolve(odes3[0], func=At, ics={A(0): A0})\n",
    "assert sA.subs(t, 0).rhs - A0 == 0\n",
    "assert sA.rhs.diff(t) - odes3[0].rhs.subs({At: sA.rhs}) == 0\n",
    "sA"
   ]
  },
  {
   "cell_type": "code",
   "execution_count": null,
   "id": "e178347c",
   "metadata": {},
   "outputs": [],
   "source": [
    "odes2 = odes3[1:].subs({sA.lhs: sA.rhs})\n",
    "odes2"
   ]
  },
  {
   "cell_type": "code",
   "execution_count": null,
   "id": "d98b1e2f",
   "metadata": {},
   "outputs": [],
   "source": [
    "# SymPy's dsolve (effectively?) hangs for below input:\n",
    "#sB = dsolve(odes2[0], func=Bt, ics={B(0): B0})\n",
    "# so we prescribe the analytic solution directly:\n",
    "_c1 = B0 - a*A0/(b-a)\n",
    "sB = Eq(Bt, (a*A0*(t+1)**-a / (b-a) + _c1*(t+1)**-b))#.simplify())\n",
    "assert sB.subs(t, 0).rhs - B0 == 0\n",
    "assert sB.rhs.diff(t).expand().factor() - odes2[0].rhs.subs({Bt: sB.rhs}).expand().factor() == 0\n",
    "sB"
   ]
  },
  {
   "cell_type": "code",
   "execution_count": null,
   "id": "fdf775c9",
   "metadata": {},
   "outputs": [],
   "source": [
    "sB.rhs"
   ]
  },
  {
   "cell_type": "code",
   "execution_count": null,
   "id": "b6edd3b7",
   "metadata": {},
   "outputs": [],
   "source": [
    "odes1 = odes2[1:].subs({sB.lhs: sB.rhs})\n",
    "odes1"
   ]
  },
  {
   "cell_type": "code",
   "execution_count": null,
   "id": "8acfbf96",
   "metadata": {},
   "outputs": [],
   "source": [
    "_sC = (t+1)**(-a-b)*(b*(B0*(t+1)**a + A0*(t+1)**b) - a*(t+1)**a*(A0+B0))/(a-b)\n",
    "sC = Eq(Ct, (_sC + C0 - _sC.subs(t, 0)))\n",
    "assert sC.subs(t, 0).rhs - C0 == 0\n",
    "assert sC.rhs.diff(t).expand().factor() - odes1[0].rhs.subs({Ct: sC.rhs}).expand().factor() == 0\n",
    "sC"
   ]
  },
  {
   "cell_type": "code",
   "execution_count": null,
   "id": "0693d6ca",
   "metadata": {},
   "outputs": [],
   "source": [
    "analytic_rhss = [sA.rhs, sB.rhs, sC.rhs]\n",
    "cses, red = cse(analytic_rhss)\n",
    "cses, red"
   ]
  },
  {
   "cell_type": "code",
   "execution_count": null,
   "id": "ab3c476f",
   "metadata": {},
   "outputs": [],
   "source": [
    "[r.subs(cses[::-1]) - ref for r, ref in zip(red, analytic_rhss)]"
   ]
  },
  {
   "cell_type": "markdown",
   "id": "16662d12",
   "metadata": {},
   "source": [
    "### Deferred below\n",
    "Better CSEs but implementation not yet complete."
   ]
  },
  {
   "cell_type": "code",
   "execution_count": null,
   "id": "0901a71d",
   "metadata": {},
   "outputs": [],
   "source": [
    "from collections import defaultdict\n",
    "\n",
    "def my_cse(exprs):\n",
    "    cses, red = cse(exprs)\n",
    "    new_keys, new_values = [], []\n",
    "    backsubs = {}\n",
    "    denoms = defaultdict(list)\n",
    "    for x, se in cses:\n",
    "        _a, _b = se.as_coeff_Mul()\n",
    "        if _a == -1 and _b.is_Symbol:\n",
    "            backsubs[x] = se\n",
    "            continue\n",
    "            \n",
    "        #if -se in new_values:\n",
    "        #    backsubs[x] = -new_keys[new_values.index(-se)]\n",
    "        #    continue\n",
    "        \n",
    "        new_keys.append(x)\n",
    "        se = se.subs(backsubs)\n",
    "        new_values.append(se)\n",
    "        \n",
    "        numer, denom = se.as_numer_denom()\n",
    "        if not denom.is_number:\n",
    "            denoms[denom].append((x, numer))\n",
    "    taken = set()\n",
    "    for denom, pairs1 in denoms.items():\n",
    "        if denom in taken:\n",
    "            continue\n",
    "        pairs2 = denoms.get(-denom, None)\n",
    "        if pairs2 is None:\n",
    "            continue\n",
    "        else:\n",
    "            taken.add(-denom)\n",
    "        \n",
    "        def _cost(numer):\n",
    "            return int(numer.is_number), abs(numer) if numer.is_number else numer.count_ops()\n",
    "        pairs12 = (pairs1, pairs2)\n",
    "        scores = [sorted([(x, _cost(nur)) for x, nur in pairs], key=lambda _: _[1]) for pairs in pairs12]\n",
    "        x1, sc1 = scores[0][0]\n",
    "        x2, sc2 = scores[1][0]\n",
    "        use1 = sc1 < sc2\n",
    "        x = (x1, x2)[use1]\n",
    "        pairs12d = [dict(pairs) for pairs in pairs12]\n",
    "        print(pairs12d)\n",
    "        nur = pairs12d[use1][x]\n",
    "        kk, vv = [], []\n",
    "        for k, v in zip(new_keys, new_values):\n",
    "            kk.append(k)\n",
    "            if k != x and k in pairs12d[0]:\n",
    "                side = 0\n",
    "            elif k != x and k in pairs12d[1]:\n",
    "                side = 1\n",
    "            else:\n",
    "                vv.append(v)\n",
    "                continue\n",
    "            factor = -1 if (use1 ^ side) else 1\n",
    "            print(x, k, v, factor)\n",
    "            expr = factor*x*pairs12d[side][k]/pairs12d[use1][x]\n",
    "            print(expr)\n",
    "            vv.append(expr)\n",
    "            \n",
    "        new_keys = kk\n",
    "        new_values = vv\n",
    "        \n",
    "    return list(zip(new_keys, new_values)), [_.subs(backsubs) for _ in red]"
   ]
  },
  {
   "cell_type": "code",
   "execution_count": null,
   "id": "5cac0790",
   "metadata": {},
   "outputs": [],
   "source": [
    "cses2, red2 = my_cse(analytic_rhss)\n",
    "assert all(r.subs(cses2[::-1]) - ref == 0 for r, ref in zip(red2, analytic_rhss))\n",
    "cses2, red2"
   ]
  },
  {
   "cell_type": "code",
   "execution_count": null,
   "id": "b5dda788",
   "metadata": {},
   "outputs": [],
   "source": [
    "cses2"
   ]
  },
  {
   "cell_type": "code",
   "execution_count": null,
   "id": "5206ab28",
   "metadata": {},
   "outputs": [],
   "source": [
    "numer, denom = cses2[3][1].as_numer_denom()"
   ]
  },
  {
   "cell_type": "code",
   "execution_count": null,
   "id": "f1a160f0",
   "metadata": {},
   "outputs": [],
   "source": [
    "denom.as_numer_denom()"
   ]
  },
  {
   "cell_type": "code",
   "execution_count": null,
   "id": "3892e8d4",
   "metadata": {},
   "outputs": [],
   "source": [
    "denom.is_number"
   ]
  },
  {
   "cell_type": "code",
   "execution_count": null,
   "id": "18b1a73b",
   "metadata": {},
   "outputs": [],
   "source": []
  }
 ],
 "metadata": {
  "kernelspec": {
   "display_name": "Python 3 (ipykernel)",
   "language": "python",
   "name": "python3"
  },
  "language_info": {
   "codemirror_mode": {
    "name": "ipython",
    "version": 3
   },
   "file_extension": ".py",
   "mimetype": "text/x-python",
   "name": "python",
   "nbconvert_exporter": "python",
   "pygments_lexer": "ipython3",
   "version": "3.8.10"
  }
 },
 "nbformat": 4,
 "nbformat_minor": 5
}
