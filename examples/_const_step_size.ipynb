{
 "cells": [
  {
   "cell_type": "code",
   "execution_count": null,
   "metadata": {
    "collapsed": false
   },
   "outputs": [],
   "source": [
    "from itertools import product, repeat\n",
    "import numpy as np\n",
    "import matplotlib.pyplot as plt\n",
    "from ipywidgets import RadioButtons\n",
    "from pyodesys import ODESys\n",
    "from pyodesys.integrators import (RK4_example_integrator, EulerForward_example_integrator,\n",
    "                                  EulerBackward_example_integrator, Trapezoidal_example_integrator,\n",
    "                                  Midpoint_example_integrator)\n",
    "from pyodesys.tests.bateman import bateman_full\n",
    "%matplotlib inline"
   ]
  },
  {
   "cell_type": "code",
   "execution_count": null,
   "metadata": {
    "collapsed": false
   },
   "outputs": [],
   "source": [
    "choice = RadioButtons(\n",
    "    options=['decay', 'sine'],\n",
    "    description='Case:',\n",
    "    disabled=False\n",
    ")\n",
    "choice"
   ]
  },
  {
   "cell_type": "code",
   "execution_count": null,
   "metadata": {
    "collapsed": true
   },
   "outputs": [],
   "source": [
    "if choice.value == 'decay':\n",
    "    odesys = ODESys(lambda x, y, p: [\n",
    "        (0 if i == 0 else p[i-1]*y[i-1]) -\n",
    "        (0 if i == len(y) - 1 else p[i]*y[i])\n",
    "         for i in range(len(y))\n",
    "    ], lambda x, y, p: [[(-p[ri] if ri == ci and ri < len(y) - 1 else (p[ci] if ri == ci + 1 else 0)) for ci in range(len(y))] for ri in range(len(y))])\n",
    "    x0, xend, y0, p, n0 = 0, 1, [5, 2, .3, .1, 0], [13, 7, 3, 1], 24\n",
    "\n",
    "    def ref(x):\n",
    "        return np.array(bateman_full(y0, p+[0], x, exp=np.exp)).T\n",
    "elif choice.value == 'sine':\n",
    "    A = 3\n",
    "    k = 14\n",
    "    x0, xend, y0, p, n0 = 0, 1, [0, A*k], [k], 128\n",
    "    odesys = ODESys(lambda x, y, p: [y[1], -p[0]**2*y[0]],\n",
    "                   lambda x, y, p: [[0, 1], [-p[0]**2, 0]])\n",
    "    def ref(x):\n",
    "        return np.array([A*np.sin(k*x), A*k*np.cos(k*x)]).T\n",
    "else:\n",
    "    raise ValueError(\"Unknown choice\")"
   ]
  },
  {
   "cell_type": "code",
   "execution_count": null,
   "metadata": {
    "collapsed": false
   },
   "outputs": [],
   "source": [
    "xout1 = np.linspace(x0, xend, n0 + 1)\n",
    "res1 = odesys.integrate(xout1, y0, p, first_step=xend/n0, integrator=EulerForward_example_integrator)\n",
    "yref1 = ref(res1.xout)\n",
    "fig, axes = plt.subplots(1, 2, figsize=(14, 4))\n",
    "res1.plot(ls=('-',), ax=axes[0])\n",
    "xplt = np.linspace(x0, xend)\n",
    "res1.plot(x=xplt, y=ref(xplt), ls=(':',), ax=axes[0])\n",
    "res1.plot(y=res1.yout - yref1, ax=axes[1])"
   ]
  },
  {
   "cell_type": "code",
   "execution_count": null,
   "metadata": {
    "collapsed": false
   },
   "outputs": [],
   "source": [
    "def plot_order_of_convergence(Integrator, nruns=6):\n",
    "    res, nruns = [], 7\n",
    "    for i in range(nruns):\n",
    "        n = n0 * 2**i\n",
    "        x = np.linspace(0, 1, n)\n",
    "        res.append(odesys.integrate(x, y0, p, integrator=Integrator))\n",
    "\n",
    "    vals = {}\n",
    "    for ix, iy in product(range(n0), range(len(y0))):\n",
    "        vals[ix, iy] = [res[i].yout[ix*(2**i), iy] for i in range(nruns)]\n",
    "\n",
    "    logn = np.log(n0 * 2**np.arange(nruns))\n",
    "    fig, axes = plt.subplots(1, len(y0), figsize=(14, 4))\n",
    "    for iy, ax in enumerate(axes):\n",
    "        for ix in range(1, n0):\n",
    "            lnabserr = np.log(np.abs(np.array(vals[ix, iy]) - yref1[ix, iy]))\n",
    "            ax.plot(logn, lnabserr, '.-', c=(ix/n0, 0, 0))\n",
    "        popt = np.polyfit(logn, lnabserr, 1)\n",
    "        ax.plot(logn[[0,-1]], np.polyval(popt, logn[[0,-1]]), label='y=%.2f x %+.2f' % tuple(popt))\n",
    "        ax.legend()"
   ]
  },
  {
   "cell_type": "code",
   "execution_count": null,
   "metadata": {
    "collapsed": false
   },
   "outputs": [],
   "source": [
    "plot_order_of_convergence(EulerForward_example_integrator)"
   ]
  },
  {
   "cell_type": "code",
   "execution_count": null,
   "metadata": {
    "collapsed": false,
    "scrolled": true
   },
   "outputs": [],
   "source": [
    "plot_order_of_convergence(EulerBackward_example_integrator)"
   ]
  },
  {
   "cell_type": "code",
   "execution_count": null,
   "metadata": {
    "collapsed": false
   },
   "outputs": [],
   "source": [
    "plot_order_of_convergence(Midpoint_example_integrator)"
   ]
  },
  {
   "cell_type": "code",
   "execution_count": null,
   "metadata": {
    "collapsed": false
   },
   "outputs": [],
   "source": [
    "plot_order_of_convergence(Trapezoidal_example_integrator)"
   ]
  },
  {
   "cell_type": "code",
   "execution_count": null,
   "metadata": {
    "collapsed": false
   },
   "outputs": [],
   "source": [
    "plot_order_of_convergence(RK4_example_integrator)"
   ]
  }
 ],
 "metadata": {
  "kernelspec": {
   "display_name": "Python 3",
   "language": "python",
   "name": "python3"
  },
  "language_info": {
   "codemirror_mode": {
    "name": "ipython",
    "version": 3
   },
   "file_extension": ".py",
   "mimetype": "text/x-python",
   "name": "python",
   "nbconvert_exporter": "python",
   "pygments_lexer": "ipython3",
   "version": "3.5.2"
  },
  "widgets": {
   "state": {
    "7d4a5a6f8d584513bb39fffa7cdc282a": {
     "views": [
      {
       "cell_index": 1
      }
     ]
    }
   },
   "version": "1.2.0"
  }
 },
 "nbformat": 4,
 "nbformat_minor": 4
}
