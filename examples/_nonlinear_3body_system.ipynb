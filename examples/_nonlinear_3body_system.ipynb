{
 "cells": [
  {
   "cell_type": "code",
   "execution_count": null,
   "metadata": {},
   "outputs": [],
   "source": [
    "from IPython.display import display\n",
    "import matplotlib.pyplot as plt\n",
    "from mpl_toolkits.mplot3d import Axes3D\n",
    "from pyodesys.symbolic import SymbolicSys\n",
    "%matplotlib inline"
   ]
  },
  {
   "cell_type": "markdown",
   "metadata": {},
   "source": [
    "3 body system in 3 dimensional space => 9 spatial + 9 momentum degrees of freedom (i.e. when not exploiting translational / rotational symmetry of the system)"
   ]
  },
  {
   "cell_type": "code",
   "execution_count": null,
   "metadata": {},
   "outputs": [],
   "source": [
    "def dydt(t, y, params=(), be=None):\n",
    "    x0, y0, z0, x1, y1, z1, x2, y2, z2, px0, py0, pz0, px1, py1, pz1, px2, py2, pz2 = y\n",
    "    m0, m1, m2 = params\n",
    "    coord = [[x0, y0, z0], [x1, y1, z1], [x2, y2, z2]]\n",
    "    mmntm = [[px0, py0, pz0], [px1, py1, pz1], [px2, py2, pz2]]\n",
    "\n",
    "    def r(a, b):\n",
    "        return be.sqrt(sum((c0 - c1)**2 for c0, c1 in zip(a, b)))\n",
    "    r01 = r(coord[0], coord[1])\n",
    "    r02 = r(coord[0], coord[2])\n",
    "    r12 = r(coord[1], coord[2])\n",
    "    f01 = m0*m1/r01\n",
    "    f02 = m0*m2/r02\n",
    "    f12 = m1*m2/r12\n",
    "    def e(a, b, denom):\n",
    "        return [(c1 - c0)/denom for c0, c1 in zip(a, b)]\n",
    "    e01 = e(coord[0], coord[1], r01)\n",
    "    e02 = e(coord[0], coord[2], r02)\n",
    "    e12 = e(coord[1], coord[2], r12)\n",
    "    f0 = [f01*c01 + f02*c02 for c01, c02 in zip(e01, e02)]\n",
    "    f1 = [-f01*c01 + f12*c12 for c01, c12 in zip(e01, e12)]\n",
    "    f2 = [-f02*c02 - f12*c12 for c02, c12 in zip(e02, e12)]\n",
    "    return [mmntm[i][j]/params[i] for i in range(3) for j in range(3)] + f0 + f1 + f2"
   ]
  },
  {
   "cell_type": "code",
   "execution_count": null,
   "metadata": {},
   "outputs": [],
   "source": [
    "odesys = SymbolicSys.from_callback(dydt, 18, 3)"
   ]
  },
  {
   "cell_type": "code",
   "execution_count": null,
   "metadata": {},
   "outputs": [],
   "source": [
    "y0  = [0, 0, 0, 0, 0, 1, 0, 1, 0] + [0]*9\n",
    "res = odesys.integrate(15, y0, [2, 3, 4], integrator='cvode', method='adams', nsteps=15000)\n",
    "print(res.info['time_cpu'], res.info['time_wall'])"
   ]
  },
  {
   "cell_type": "code",
   "execution_count": null,
   "metadata": {},
   "outputs": [],
   "source": [
    "_ = res.plot(title_info=1)"
   ]
  },
  {
   "cell_type": "code",
   "execution_count": null,
   "metadata": {},
   "outputs": [],
   "source": [
    "fig1 = plt.figure()\n",
    "ax = fig1.gca(projection='3d')\n",
    "ax.plot(*res.yout[:, 0:3].T, alpha=1.0, color='r')\n",
    "ax.plot(*res.yout[:, 3:6].T, alpha=1.0, color='g')\n",
    "ax.plot(*res.yout[:, 6:9].T, alpha=1.0, color='b')"
   ]
  },
  {
   "cell_type": "code",
   "execution_count": null,
   "metadata": {},
   "outputs": [],
   "source": [
    "import numpy as np\n",
    "import time\n",
    "from pyodesys.native import native_sys\n",
    "nativesys = native_sys['cvode'].from_other(odesys)"
   ]
  },
  {
   "cell_type": "code",
   "execution_count": null,
   "metadata": {},
   "outputs": [],
   "source": [
    "nlvls = 300\n",
    "params_varied = np.tile([2,3,4], (nlvls, 1))\n",
    "params_varied[:, 0] = np.linspace(2, 5, nlvls)\n",
    "t0 = time.time()\n",
    "results = nativesys.integrate(15, y0, params_varied, integrator='native', method='adams', nsteps=15000)\n",
    "print(sum([r.info['time_cpu'] for r in results]), time.time() - t0)"
   ]
  },
  {
   "cell_type": "markdown",
   "metadata": {},
   "source": [
    "Native multi-threaded integration was approximately two orders of magnitude faster (wall clock) than single threaded python implementation."
   ]
  }
 ],
 "metadata": {
  "kernelspec": {
   "display_name": "Python 3",
   "language": "python",
   "name": "python3"
  },
  "language_info": {
   "codemirror_mode": {
    "name": "ipython",
    "version": 3
   },
   "file_extension": ".py",
   "mimetype": "text/x-python",
   "name": "python",
   "nbconvert_exporter": "python",
   "pygments_lexer": "ipython3",
   "version": "3.5.2"
  }
 },
 "nbformat": 4,
 "nbformat_minor": 1
}
