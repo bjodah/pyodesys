{
 "cells": [
  {
   "cell_type": "code",
   "execution_count": null,
   "metadata": {},
   "outputs": [],
   "source": [
    "import matplotlib.pyplot as plt\n",
    "from pyodesys.symbolic import SymbolicSys\n",
    "%matplotlib inline"
   ]
  },
  {
   "cell_type": "code",
   "execution_count": null,
   "metadata": {},
   "outputs": [],
   "source": [
    "def decay(t, y, p):\n",
    "    return [-p['lmb']*y[0]]"
   ]
  },
  {
   "cell_type": "code",
   "execution_count": null,
   "metadata": {},
   "outputs": [],
   "source": [
    "odesys = SymbolicSys.from_callback(decay, 1, 1, par_by_name=True, param_names=['lmb'])"
   ]
  },
  {
   "cell_type": "code",
   "execution_count": null,
   "metadata": {},
   "outputs": [],
   "source": [
    "res = odesys.integrate(3, [1], {'lmb': 7, 'irrelevant_key': 'irrelevant_value'}, integrator='odeint')\n",
    "res.plot()"
   ]
  },
  {
   "cell_type": "code",
   "execution_count": null,
   "metadata": {},
   "outputs": [],
   "source": [
    "results = odesys.integrate(3, [1], {'lmb': [1, 5, 25]}, integrator='odeint')\n",
    "fig, axes = plt.subplots(1, len(results), figsize=(14, 4))\n",
    "for res, ax in zip(results, axes):\n",
    "    res.plot(ax=ax)"
   ]
  },
  {
   "cell_type": "code",
   "execution_count": null,
   "metadata": {},
   "outputs": [],
   "source": [
    "def decay2(t, y, p):\n",
    "    return [-p['foo']*y[0], p['foo']*y[0] - p['bar']*y[1]]"
   ]
  },
  {
   "cell_type": "code",
   "execution_count": null,
   "metadata": {},
   "outputs": [],
   "source": [
    "odesys2 = SymbolicSys.from_callback(decay2, 2, 2, par_by_name=True, param_names=['foo', 'bar'])\n",
    "res2 = odesys2.integrate(3, [2, 1], {'foo': 2, 'bar': 1}, integrator='cvode')\n",
    "res2.plot()"
   ]
  },
  {
   "cell_type": "code",
   "execution_count": null,
   "metadata": {},
   "outputs": [],
   "source": [
    "results2 = odesys2.integrate(3, [2, 1], {'foo': 2, 'bar': [1, 2, 3]}, integrator='cvode')\n",
    "fig, axes = plt.subplots(1, len(results2), figsize=(14, 4))\n",
    "for r, ax in zip(results2, axes):\n",
    "    r.plot(ax=ax)"
   ]
  }
 ],
 "metadata": {
  "kernelspec": {
   "display_name": "Python 3",
   "language": "python",
   "name": "python3"
  },
  "language_info": {
   "codemirror_mode": {
    "name": "ipython",
    "version": 3
   },
   "file_extension": ".py",
   "mimetype": "text/x-python",
   "name": "python",
   "nbconvert_exporter": "python",
   "pygments_lexer": "ipython3",
   "version": "3.5.2"
  }
 },
 "nbformat": 4,
 "nbformat_minor": 1
}
